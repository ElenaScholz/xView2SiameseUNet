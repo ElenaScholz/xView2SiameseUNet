{
 "cells": [
  {
   "cell_type": "markdown",
   "metadata": {},
   "source": [
    "# Create a small subset to inspect the datasets"
   ]
  },
  {
   "cell_type": "code",
   "execution_count": 1,
   "metadata": {},
   "outputs": [],
   "source": [
    "import random\n",
    "import shutil\n",
    "from pathlib import Path\n",
    "import os"
   ]
  },
  {
   "cell_type": "code",
   "execution_count": 2,
   "metadata": {},
   "outputs": [],
   "source": [
    "ROOT = Path(\"/dss/dsstbyfs02/pn49ci/pn49ci-dss-0022\") # Root-Verzeichnis\n",
    "DATA_PATH = ROOT / \"data\" # Verzeichnis in dem alle Datensätze gespeichert sind \n",
    "DATASET_ROOT = DATA_PATH / \"xview2/test\"\n",
    "# Pfad zum xView2 Datensatz\n",
    "IMAGE_ROOT = DATASET_ROOT / \"png_images\"\n",
    "LABEL_ROOT = DATASET_ROOT / \"targets\"\n",
    "\n",
    "\n",
    "SUB_DS = DATA_PATH / \"xview2-subset/test\" # An diesem Ort soll der Ordner für das xView 2 Subset erstellt werden\n",
    "SUB_IMAGES = SUB_DS / \"png_images\" # auch hier werden images und \n",
    "SUB_LABEL = SUB_DS / \"targets\" # label getrennt"
   ]
  },
  {
   "cell_type": "code",
   "execution_count": 3,
   "metadata": {},
   "outputs": [],
   "source": [
    "# Zielverzeichnisse erstellen\n",
    "os.makedirs(SUB_IMAGES, exist_ok = True)\n",
    "os.makedirs(SUB_LABEL, exist_ok = True)\n"
   ]
  },
  {
   "cell_type": "markdown",
   "metadata": {},
   "source": [
    "Es werden je 20 Bild Paare und Label paare heruntergeladen "
   ]
  },
  {
   "cell_type": "code",
   "execution_count": 4,
   "metadata": {},
   "outputs": [
    {
     "name": "stdout",
     "output_type": "stream",
     "text": [
      "Gespeicherte 15 Bild-Paare mit zugehörigen Labels.\n"
     ]
    }
   ],
   "source": [
    "\n",
    "# Vorherige Dateien löschen\n",
    "for folder in [SUB_IMAGES, SUB_LABEL]:\n",
    "    if os.path.exists(folder):\n",
    "        shutil.rmtree(folder)  # Löscht das gesamte Verzeichnis\n",
    "    os.makedirs(folder)  # Erstellt es neu\n",
    "    \n",
    "# Sicherstellen, dass Zielverzeichnisse existieren\n",
    "SUB_IMAGES.mkdir(parents=True, exist_ok=True)\n",
    "SUB_LABEL.mkdir(parents=True, exist_ok=True)\n",
    "\n",
    "# Alle TIF-Dateien abrufen\n",
    "image_files = [file for file in os.listdir(IMAGE_ROOT) if file.endswith(\".png\")]\n",
    "\n",
    "# Nur \"pre\"-Bilder auswählen\n",
    "pre_images = [img for img in image_files if \"_pre_disaster\" in img]\n",
    "\n",
    "# Zufällige Auswahl von `pre`-Bildern\n",
    "sample_number = 15\n",
    "selected_pre_images = random.sample(pre_images, min(sample_number, len(pre_images)))\n",
    "\n",
    "# Kopieren der Bild-Paare und zugehörigen Labels\n",
    "for pre_image in selected_pre_images:\n",
    "    post_image = pre_image.replace(\"_pre_disaster\", \"_post_disaster\")  # Passendes \"post\"-Bild finden\n",
    "    pre_label = pre_image.replace(\".png\", \".png\")  # Entsprechendes Label für pre\n",
    "    post_label = post_image.replace(\".png\", \".png\")  # Entsprechendes Label für post\n",
    "\n",
    "    # Dateien kopieren, falls sie existieren\n",
    "    for img, lbl in [(pre_image, pre_label), (post_image, post_label)]:\n",
    "        img_path = IMAGE_ROOT / img\n",
    "        lbl_path = LABEL_ROOT / lbl\n",
    "\n",
    "        if img_path.exists():\n",
    "            shutil.copy(img_path, SUB_IMAGES / img)\n",
    "\n",
    "        if lbl_path.exists():\n",
    "            shutil.copy(lbl_path, SUB_LABEL / lbl)\n",
    "\n",
    "print(f\"Gespeicherte {len(selected_pre_images)} Bild-Paare mit zugehörigen Labels.\")"
   ]
  }
 ],
 "metadata": {
  "kernelspec": {
   "display_name": ".venv",
   "language": "python",
   "name": "python3"
  },
  "language_info": {
   "codemirror_mode": {
    "name": "ipython",
    "version": 3
   },
   "file_extension": ".py",
   "mimetype": "text/x-python",
   "name": "python",
   "nbconvert_exporter": "python",
   "pygments_lexer": "ipython3",
   "version": "3.13.2"
  }
 },
 "nbformat": 4,
 "nbformat_minor": 2
}
