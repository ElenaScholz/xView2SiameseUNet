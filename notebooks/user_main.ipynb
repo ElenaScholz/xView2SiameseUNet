{
 "cells": [
  {
   "cell_type": "markdown",
   "metadata": {},
   "source": [
    "# Inference\n",
    "This notebook is intended to depict the results of inference for the xView2 Dataset. "
   ]
  },
  {
   "cell_type": "code",
   "execution_count": 3,
   "metadata": {},
   "outputs": [],
   "source": [
    "from utils.inference_step import inference\n",
    "from utils.helperfunctions import load_checkpoint, find_best_checkpoint, get_data_folder\n",
    "from utils.dataset import xView2Dataset, collate_fn_test, image_transform\n",
    "from pathlib import Path"
   ]
  },
  {
   "cell_type": "markdown",
   "metadata": {},
   "source": [
    "## Get all pathes and create Dataset and DataLoader"
   ]
  },
  {
   "cell_type": "code",
   "execution_count": 4,
   "metadata": {},
   "outputs": [],
   "source": [
    "\n",
    "DATA_ROOT, TEST_ROOT, VAL_IMG, TEST_LABEL, TEST_TARGET, TEST_PNG_IMAGES = get_data_folder(\"test\", main_dataset = False)\n",
    "\n",
    "test_dataset = xView2Dataset(png_path=TEST_PNG_IMAGES,\n",
    "image_transform = image_transform(), inference = True)\n",
    "\n",
    "test_dataloader = DataLoader(\n",
    "    test_dataset, batch_size = 32,\n",
    "    collate_fn = collate_fn_test,\n",
    "    shuffle = False,\n",
    "    num_workers = 5\n",
    ")"
   ]
  },
  {
   "cell_type": "code",
   "execution_count": null,
   "metadata": {},
   "outputs": [],
   "source": [
    "USER = \"di97ren\"\n",
    "#USER_PATH = Path(f\"/dss/dsstbyfs02/pn49ci/pn49ci-dss-0022/users/{USER}\")\n",
    "USER_HOME_PATH = Path(f\"/dss/dsshome1/08/{USER}\")\n",
    "\n",
    "# Pathes to store experiment informations in:\n",
    "EXPERIMENT_GROUP = \"xView2_Subset\"\n",
    "EXPERIMENT_ID = \"003\"\n",
    "EXPERIMENT_DIR = USER_HOME_PATH / EXPERIMENT_GROUP / \"tensorboard_logs\" / EXPERIMENT_ID\n",
    "EXPERIMENT_DIR.mkdir(parents=True, exist_ok=True)\n",
    "\n",
    "print(EXPERIMENT_DIR)\n",
    "\n",
    "# Auch Checkpoints-Verzeichnis erstellen\n",
    "CHECKPOINTS_DIR = USER_HOME_PATH / EXPERIMENT_GROUP / \"checkpoints\"\n",
    "CHECKPOINTS_DIR.mkdir(parents=True, exist_ok=True)\n",
    "\n",
    "# Logfiles-Verzeichnis erstellen\n",
    "LOGFILES_DIR = USER_HOME_PATH / EXPERIMENT_GROUP / \"logfiles\" / EXPERIMENT_ID\n",
    "LOGFILES_DIR.mkdir(parents=True, exist_ok=True)\n",
    "print(f\"Logfiles werden gespeichert in: {LOGFILES_DIR}\")\n"
   ]
  },
  {
   "cell_type": "code",
   "execution_count": null,
   "metadata": {},
   "outputs": [],
   "source": [
    "\n",
    "\n",
    "# Modell initialisieren\n",
    "model = SiameseUnet(num_pre_classes=2, num_post_classes=6)\n",
    "model.to(device)\n",
    "device = \"cuda\" if torch.cuda.is_available() else \"cpu\"\n",
    "\n",
    "best_checkpoint_path = find_best_checkpoint(CHECKPOINTS_DIR, EXPERIMENT_ID)\n",
    "# Besten Checkpoint laden\n",
    "model = load_checkpoint(model, best_checkpoint_path)\n",
    "results = inference(model, test_dataloader)\n"
   ]
  },
  {
   "cell_type": "markdown",
   "metadata": {},
   "source": [
    "# Plot the results:"
   ]
  },
  {
   "cell_type": "code",
   "execution_count": null,
   "metadata": {},
   "outputs": [],
   "source": [
    "from utils.viz import vizualize_predictions"
   ]
  },
  {
   "cell_type": "code",
   "execution_count": null,
   "metadata": {},
   "outputs": [],
   "source": [
    "vizualize_predictions(results)"
   ]
  }
 ],
 "metadata": {
  "kernelspec": {
   "display_name": ".venv",
   "language": "python",
   "name": "python3"
  },
  "language_info": {
   "codemirror_mode": {
    "name": "ipython",
    "version": 3
   },
   "file_extension": ".py",
   "mimetype": "text/x-python",
   "name": "python",
   "nbconvert_exporter": "python",
   "pygments_lexer": "ipython3",
   "version": "3.13.2"
  }
 },
 "nbformat": 4,
 "nbformat_minor": 2
}
