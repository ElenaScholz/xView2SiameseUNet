{
 "cells": [
  {
   "cell_type": "markdown",
   "metadata": {},
   "source": [
    "# Inference\n",
    "This notebook is intended to depict the results of inference for the xView2 Dataset. "
   ]
  },
  {
   "cell_type": "code",
   "execution_count": 1,
   "metadata": {},
   "outputs": [
    {
     "name": "stdout",
     "output_type": "stream",
     "text": [
      "/dss/dsshome1/08/di97ren/04-geo-oma24/xView2SiameseUNet\n"
     ]
    }
   ],
   "source": [
    "from utils.inference_step import inference\n",
    "from utils.helperfunctions import load_checkpoint, find_best_checkpoint, get_data_folder\n",
    "from utils.dataset import xView2Dataset, collate_fn_test, image_transform\n",
    "from pathlib import Path\n",
    "from torch.utils.data import DataLoader\n",
    "import os\n",
    "import yaml\n",
    "from model.siameseNetwork import SiameseUnet\n",
    "from model.uNet import UNet_ResNet50\n",
    "from model.loss import FocalLoss, combined_loss_function\n",
    "import torch\n",
    "base_dir = Path(os.getcwd()).parent  # Gehe einen Ordner zurück vom aktuellen Arbeitsverzeichnis\n",
    "config_path = base_dir / \"notebooks\" / \"00_config.yaml\"\n",
    "print(base_dir)\n",
    "\n",
    "with open(config_path, \"r\") as file:\n",
    "    config = yaml.safe_load(file)\n",
    "\n"
   ]
  },
  {
   "cell_type": "markdown",
   "metadata": {},
   "source": [
    "## Get all pathes and create Dataset and DataLoader"
   ]
  },
  {
   "cell_type": "code",
   "execution_count": 2,
   "metadata": {},
   "outputs": [],
   "source": [
    "\n",
    "DATA_ROOT, TEST_ROOT, VAL_IMG, TEST_LABEL, TEST_TARGET, TEST_PNG_IMAGES = get_data_folder(\"test\", main_dataset = False)\n",
    "\n",
    "test_dataset = xView2Dataset(png_path=TEST_PNG_IMAGES,\n",
    "image_transform = image_transform(), inference = True)\n",
    "\n",
    "test_dataloader = DataLoader(\n",
    "    test_dataset, batch_size = 32,\n",
    "    collate_fn = collate_fn_test,\n",
    "    shuffle = False,\n",
    "    num_workers = 2\n",
    ")"
   ]
  },
  {
   "cell_type": "code",
   "execution_count": 3,
   "metadata": {},
   "outputs": [
    {
     "name": "stdout",
     "output_type": "stream",
     "text": [
      "/dss/dsshome1/08/di97ren/xView2_all_data/tensorboard_logs/001\n",
      "Logfiles werden gespeichert in: /dss/dsshome1/08/di97ren/xView2_all_data/logfiles/001\n"
     ]
    }
   ],
   "source": [
    "USER = config[\"data\"][\"user\"]\n",
    "#USER_PATH = Path(f\"/dss/dsstbyfs02/pn49ci/pn49ci-dss-0022/users/{USER}\")\n",
    "USER_HOME_PATH = Path(f\"/dss/dsshome1/08/{USER}\")\n",
    "\n",
    "# Pathes to store experiment informations in:\n",
    "EXPERIMENT_GROUP = config[\"data\"][\"experiment_group\"]\n",
    "EXPERIMENT_ID = config[\"data\"][\"experiment_id\"]\n",
    "EXPERIMENT_DIR = USER_HOME_PATH / EXPERIMENT_GROUP / \"tensorboard_logs\" / EXPERIMENT_ID\n",
    "EXPERIMENT_DIR.mkdir(parents=True, exist_ok=True)\n",
    "\n",
    "print(EXPERIMENT_DIR)\n",
    "\n",
    "# Auch Checkpoints-Verzeichnis erstellen\n",
    "CHECKPOINTS_DIR = USER_HOME_PATH / EXPERIMENT_GROUP / \"checkpoints\"\n",
    "CHECKPOINTS_DIR.mkdir(parents=True, exist_ok=True)\n",
    "\n",
    "# Logfiles-Verzeichnis erstellen\n",
    "LOGFILES_DIR = USER_HOME_PATH / EXPERIMENT_GROUP / \"logfiles\" / EXPERIMENT_ID\n",
    "LOGFILES_DIR.mkdir(parents=True, exist_ok=True)\n",
    "print(f\"Logfiles werden gespeichert in: {LOGFILES_DIR}\")\n"
   ]
  },
  {
   "cell_type": "code",
   "execution_count": 4,
   "metadata": {},
   "outputs": [
    {
     "name": "stdout",
     "output_type": "stream",
     "text": [
      "Loaded raw state_dict from /dss/dsshome1/08/di97ren/xView2_all_data/checkpoints/001_best_siamese_unet_state.pth\n",
      "Checkpoint erfolgreich in DataParallel-Modell geladen.\n"
     ]
    },
    {
     "ename": "",
     "evalue": "",
     "output_type": "error",
     "traceback": [
      "\u001b[1;31mCannot execute code, session has been disposed. Please try restarting the Kernel."
     ]
    },
    {
     "ename": "",
     "evalue": "",
     "output_type": "error",
     "traceback": [
      "\u001b[1;31mThe Kernel crashed while executing code in the the current cell or a previous cell. Please review the code in the cell(s) to identify a possible cause of the failure. Click <a href='https://aka.ms/vscodeJupyterKernelCrash'>here</a> for more info. View Jupyter <a href='command:jupyter.viewOutput'>log</a> for further details."
     ]
    }
   ],
   "source": [
    "device = \"cuda\" if torch.cuda.is_available() else \"cpu\"\n",
    "\n",
    "\n",
    "# Modell initialisieren\n",
    "model = SiameseUnet(num_pre_classes=2, num_post_classes=6)\n",
    "model.to(device)\n",
    "\n",
    "best_checkpoint_path = find_best_checkpoint(CHECKPOINTS_DIR, EXPERIMENT_ID)\n",
    "# Besten Checkpoint laden\n",
    "model = load_checkpoint(model, best_checkpoint_path)\n",
    "results = inference(model, test_dataloader)\n"
   ]
  },
  {
   "cell_type": "markdown",
   "metadata": {},
   "source": [
    "# Plot the results:"
   ]
  },
  {
   "cell_type": "code",
   "execution_count": null,
   "metadata": {},
   "outputs": [],
   "source": [
    "from utils.viz import vizualize_predictions"
   ]
  },
  {
   "cell_type": "code",
   "execution_count": null,
   "metadata": {},
   "outputs": [],
   "source": [
    "vizualize_predictions(results)"
   ]
  }
 ],
 "metadata": {
  "kernelspec": {
   "display_name": ".venv",
   "language": "python",
   "name": "python3"
  },
  "language_info": {
   "codemirror_mode": {
    "name": "ipython",
    "version": 3
   },
   "file_extension": ".py",
   "mimetype": "text/x-python",
   "name": "python",
   "nbconvert_exporter": "python",
   "pygments_lexer": "ipython3",
   "version": "3.13.2"
  }
 },
 "nbformat": 4,
 "nbformat_minor": 2
}
